{
 "cells": [
  {
   "cell_type": "markdown",
   "metadata": {},
   "source": [
    "# Robot Trading API in Python"
   ]
  },
  {
   "cell_type": "markdown",
   "metadata": {},
   "source": [
    "### 1. Import Library Request to make http requests"
   ]
  },
  {
   "cell_type": "code",
   "execution_count": 1,
   "metadata": {
    "scrolled": true
   },
   "outputs": [],
   "source": [
    "#!pip install requests\n",
    "\n",
    "import requests as rq\n",
    "\n",
    "urlB = 'https://api.pro.coinbase.com'"
   ]
  },
  {
   "cell_type": "markdown",
   "metadata": {},
   "source": [
    "### 2. Function wich convert the requests reponse (bytes) in JSON"
   ]
  },
  {
   "cell_type": "code",
   "execution_count": 2,
   "metadata": {},
   "outputs": [],
   "source": [
    "import json\n",
    "\n",
    "def convertResponse(res):\n",
    "    res = res.decode(\"utf-8\")\n",
    "    resFinal = json.loads(res)\n",
    "    return resFinal"
   ]
  },
  {
   "cell_type": "markdown",
   "metadata": {},
   "source": [
    "### 3. Get a listof all available cryptocurrencies"
   ]
  },
  {
   "cell_type": "code",
   "execution_count": 11,
   "metadata": {},
   "outputs": [
    {
     "name": "stdout",
     "output_type": "stream",
     "text": [
      "Il y'a 30 monnaies\n",
      "ALGO\n",
      "DASH\n",
      "OXT\n",
      "ATOM\n",
      "XLM\n",
      "XRP\n",
      "EOS\n",
      "ZRX\n",
      "BAT\n",
      "LOOM\n",
      "CVC\n",
      "DNT\n",
      "MANA\n",
      "GNT\n",
      "REP\n",
      "LINK\n",
      "BTC\n",
      "EUR\n",
      "LTC\n",
      "GBP\n",
      "USD\n",
      "ETH\n",
      "BCH\n",
      "ETC\n",
      "USDC\n",
      "ZEC\n",
      "XTZ\n",
      "DAI\n",
      "ZIL\n",
      "MKR\n"
     ]
    }
   ],
   "source": [
    "reqList = rq.request('GET', urlB+'/currencies')\n",
    "\n",
    "reqList = convertResponse(reqList.content)\n",
    "\n",
    "print(\"Il y'a \"+str(len(reqList))+\" monnaies\")\n",
    "\n",
    "for el in reqList:\n",
    "    print(el['id'])"
   ]
  },
  {
   "cell_type": "markdown",
   "metadata": {},
   "source": [
    "### 4. Bid and Ask price for an asset"
   ]
  },
  {
   "cell_type": "code",
   "execution_count": 12,
   "metadata": {},
   "outputs": [
    {
     "name": "stdout",
     "output_type": "stream",
     "text": [
      "Il y'a 56 assets\n",
      "MANA-USDC\n",
      "ZRX-USD\n",
      "BAT-ETH\n",
      "BCH-EUR\n",
      "ETH-USDC\n",
      "REP-USD\n",
      "XLM-USD\n",
      "XRP-BTC\n",
      "REP-BTC\n",
      "BCH-BTC\n",
      "BTC-GBP\n",
      "ETH-BTC\n",
      "LTC-GBP\n",
      "GNT-USDC\n",
      "BAT-USDC\n",
      "LTC-EUR\n",
      "EOS-BTC\n",
      "ETH-USD\n",
      "BTC-USD\n",
      "DASH-BTC\n",
      "BTC-EUR\n",
      "ETC-BTC\n",
      "ETH-DAI\n",
      "ZRX-BTC\n",
      "BTC-USDC\n",
      "XTZ-USD\n",
      "XRP-EUR\n",
      "EOS-EUR\n",
      "LINK-ETH\n",
      "ZEC-BTC\n",
      "XRP-USD\n",
      "EOS-USD\n",
      "XLM-BTC\n",
      "LINK-USD\n",
      "ETC-GBP\n",
      "BCH-USD\n",
      "ATOM-USD\n",
      "LOOM-USDC\n",
      "CVC-USDC\n",
      "ETC-EUR\n",
      "ETC-USD\n",
      "ATOM-BTC\n",
      "DAI-USDC\n",
      "LTC-BTC\n",
      "XLM-EUR\n",
      "ZRX-EUR\n",
      "BCH-GBP\n",
      "DASH-USD\n",
      "ETH-GBP\n",
      "OXT-USD\n",
      "DNT-USDC\n",
      "ZEC-USDC\n",
      "LTC-USD\n",
      "ETH-EUR\n",
      "XTZ-BTC\n",
      "ALGO-USD\n",
      "\n",
      "Voici le 'ask' prix pour l'asset BTC-USD : 8657.45\n",
      "\n",
      "Voici le 'bid' prix pour l'asset BCH-EUR : 311.48\n",
      "\n",
      "Mauvaise direction\n"
     ]
    }
   ],
   "source": [
    "#check all the assets\n",
    "reqList = rq.request('GET', urlB+'/products')\n",
    "\n",
    "reqList = convertResponse(reqList.content)\n",
    "\n",
    "print(\"Il y'a \"+str(len(reqList))+\" assets\")\n",
    "\n",
    "for el in reqList:\n",
    "    print(el['id'])\n",
    "    \n",
    "print(\"\")\n",
    "\n",
    "\n",
    "#Functions getDepth\n",
    "def getDepth(direction='ask', pair='BTC-USD'):\n",
    "    reqList = rq.request('GET', urlB + '/products/' + pair + '/ticker')\n",
    "    reqList = convertResponse(reqList.content)\n",
    "    if(direction == 'ask'):\n",
    "        print(\"Voici le '\"+ direction +\"' prix pour l'asset \"+ pair +\" : \" + str(reqList['ask']))\n",
    "    elif(direction == 'bid'):\n",
    "        print(\"Voici le '\"+ direction +\"' prix pour l'asset \"+ pair +\" : \" + str(reqList['bid']))\n",
    "    else:\n",
    "        print(\"Mauvaise direction\")\n",
    "\n",
    "getDepth()\n",
    "print(\"\")\n",
    "getDepth('bid', 'BCH-EUR')\n",
    "print(\"\")\n",
    "getDepth(\"Monnaies numériques c'est trop bien\") #little joke hahah"
   ]
  },
  {
   "cell_type": "markdown",
   "metadata": {},
   "source": [
    "### 5. Order book for an asset"
   ]
  },
  {
   "cell_type": "code",
   "execution_count": 13,
   "metadata": {},
   "outputs": [
    {
     "name": "stdout",
     "output_type": "stream",
     "text": [
      "Voici l'order book de la paire BTC-USD : {'sequence': 11841623561, 'bids': [['8657.44', '5.46971051', 7]], 'asks': [['8657.45', '1.30319144', 1]]}\n",
      "\n",
      "Voici l'order book de la paire BCH-EUR : {'sequence': 2828708043, 'bids': [['311.25', '6.43', 2]], 'asks': [['312.29', '2.66079156', 1]]}\n"
     ]
    }
   ],
   "source": [
    "#Functions getBook\n",
    "def getBook(pair='BTC-USD'):\n",
    "    reqList = rq.request('GET', urlB + '/products/' + pair + '/book')\n",
    "    reqList = convertResponse(reqList.content)\n",
    "    print(\"Voici l'order book de la paire \"+pair+\" : \"+str(reqList))\n",
    "\n",
    "getBook()\n",
    "print(\"\")\n",
    "getBook('BCH-EUR')"
   ]
  },
  {
   "cell_type": "markdown",
   "metadata": {},
   "source": [
    "### 6. Get Candles of an asset"
   ]
  },
  {
   "cell_type": "code",
   "execution_count": 14,
   "metadata": {},
   "outputs": [
    {
     "name": "stdout",
     "output_type": "stream",
     "text": [
      "Voici un exemple pour la paire : BTC-USD, Date : 16:55, Low : 8659.99 , High : 8664.92 , Open : 8660 , Close : 8662.2.\n",
      "Voici un exemple pour la paire : BCH-EUR, Date : 13:00, Low : 291.92 , High : 313.64 , Open : 296.35 , Close : 311.03.\n"
     ]
    }
   ],
   "source": [
    "import time\n",
    "\n",
    "listAcceptedDuration = ['1m','5m','15m','1h','6h','1d']\n",
    "listReqDuation = [60, 300, 900, 3600, 21600, 86400]\n",
    "\n",
    "def refreshDataCandle(pair = 'BTC-USD', duration = '5m'):\n",
    "    \n",
    "    if(duration in listAcceptedDuration):\n",
    "        dicRequest = dict({'granularity':listReqDuation[listAcceptedDuration.index(duration)]})\n",
    "    \n",
    "        reqCandles = rq.request('GET', urlB + '/products/' + pair + '/candles', params=dicRequest)\n",
    "        reqCandles = convertResponse(reqCandles.content)\n",
    "        print(\"Voici un exemple pour la paire : \"+pair+\", Date :\"+time.ctime(reqCandles[0][0])[10:16]+\", Low : \"+str(reqCandles[0][1])+\" , High : \"+str(reqCandles[0][2])+\" , Open : \"+str(reqCandles[0][3])+\" , Close : \"+str(reqCandles[0][4])+\".\")\n",
    "    else:\n",
    "        print(\"La durée doit être dans la liste\")\n",
    "    \n",
    "refreshDataCandle()\n",
    "    \n",
    "refreshDataCandle('BCH-EUR','6h')"
   ]
  },
  {
   "cell_type": "markdown",
   "metadata": {
    "scrolled": true
   },
   "source": [
    "### 7. Connection to SQLite"
   ]
  },
  {
   "cell_type": "code",
   "execution_count": 4,
   "metadata": {},
   "outputs": [
    {
     "name": "stdout",
     "output_type": "stream",
     "text": [
      "Database created and Successfully Connected to SQLite\n",
      "SQLite Database Version is:  [('3.29.0',)]\n",
      "The SQLite connection is closed\n"
     ]
    }
   ],
   "source": [
    "import sqlite3\n",
    "\n",
    "try:\n",
    "    sqliteConnection = sqlite3.connect('Trading.db')\n",
    "    cursor = sqliteConnection.cursor()\n",
    "    print(\"Database created and Successfully Connected to SQLite\")\n",
    "\n",
    "    sqlite_select_Query = \"select sqlite_version();\"\n",
    "    cursor.execute(sqlite_select_Query)\n",
    "    record = cursor.fetchall()\n",
    "    print(\"SQLite Database Version is: \", record)\n",
    "    cursor.close()\n",
    "\n",
    "except sqlite3.Error as error:\n",
    "    print(\"Error while connecting to sqlite\", error)\n",
    "finally:\n",
    "    if (sqliteConnection):\n",
    "        sqliteConnection.close()\n",
    "        print(\"The SQLite connection is closed\")"
   ]
  },
  {
   "cell_type": "markdown",
   "metadata": {},
   "source": [
    "### 8. Recreate the function to store candle in DB"
   ]
  },
  {
   "cell_type": "code",
   "execution_count": 9,
   "metadata": {},
   "outputs": [],
   "source": [
    "import time\n",
    "import sqlite3\n",
    "\n",
    "listAcceptedDuration = ['1m','5m','15m','1h','6h','1d']\n",
    "listReqDuation = [60, 300, 900, 3600, 21600, 86400]\n",
    "\n",
    "def createTable(tableName): \n",
    "    try:\n",
    "        sqliteConnection = sqlite3.connect('Trading.db')\n",
    "        sqlite_Query = '''CREATE TABLE IF NOT EXISTS ''' + tableName + ''' (Id INTEGER PRIMARY KEY AUTOINCREMENT, date INT, high REAL, low REAL, open REAL, close REAL, volume REAL)'''\n",
    "        cursor = sqliteConnection.cursor()\n",
    "        cursor.execute(sqlite_Query)\n",
    "        sqliteConnection.commit()\n",
    "        cursor.close()\n",
    "    except sqlite3.Error as error:\n",
    "        print(\"Error : \", error)\n",
    "    finally:\n",
    "        if (sqliteConnection):\n",
    "            sqliteConnection.close()\n",
    "            \n",
    "def dropTable(tableName): \n",
    "    try:\n",
    "        sqliteConnection = sqlite3.connect('Trading.db')\n",
    "        sqlite_Query = '''DROP TABLE ''' + tableName\n",
    "        cursor = sqliteConnection.cursor()\n",
    "        cursor.execute(sqlite_Query)\n",
    "        sqliteConnection.commit()\n",
    "        cursor.close()\n",
    "    except sqlite3.Error as error:\n",
    "        print(\"Error : \", error)\n",
    "    finally:\n",
    "        if (sqliteConnection):\n",
    "            sqliteConnection.close()\n",
    "            \n",
    "def fillDB(tableName, data):\n",
    "    try:\n",
    "        values = str(data[0][0])+\",\"+str(data[0][2])+\",\"+str(data[0][1])+\",\"+str(data[0][3])+\",\"+str(data[0][4])+\",\"+str(data[0][5])\n",
    "        sqliteConnection = sqlite3.connect('Trading.db')\n",
    "        sqlite_Query = '''INSERT INTO ''' + tableName + ''' (date, high, low, open, close, volume) VALUES(''' + values + ''')'''\n",
    "        cursor = sqliteConnection.cursor()\n",
    "        cursor.execute(sqlite_Query)\n",
    "        sqliteConnection.commit()\n",
    "        cursor.close()\n",
    "    except sqlite3.Error as error:\n",
    "        print(\"Error : \", error)\n",
    "    finally:\n",
    "        if (sqliteConnection):\n",
    "            sqliteConnection.close()\n",
    "    \n",
    "\n",
    "def refreshDataCandle(pair = 'BTC-USD', duration = '5m'):\n",
    "    \n",
    "    if(duration in listAcceptedDuration):\n",
    "        \n",
    "        setTableName = str(pair.replace(\"-\",\"_\") + \"_\" + duration)\n",
    "        \n",
    "        createTable(setTableName)\n",
    "        \n",
    "        dicRequest = dict({'granularity':listReqDuation[listAcceptedDuration.index(duration)]})\n",
    "    \n",
    "        reqCandles = rq.request('GET', urlB + '/products/' + pair + '/candles', params=dicRequest)\n",
    "        reqCandles = convertResponse(reqCandles.content)\n",
    "        \n",
    "        fillDB(setTableName, reqCandles)\n",
    "        \n",
    "        \n",
    "    else:\n",
    "        print(\"La durée doit être dans la liste\")\n",
    "    \n",
    "refreshDataCandle()\n",
    "\n",
    "refreshDataCandle('BCH-EUR','6h')"
   ]
  },
  {
   "cell_type": "markdown",
   "metadata": {},
   "source": [
    "### 9. Check Data in DB"
   ]
  },
  {
   "cell_type": "code",
   "execution_count": 10,
   "metadata": {},
   "outputs": [
    {
     "name": "stdout",
     "output_type": "stream",
     "text": [
      "[(1, 1579535400, 8642.73, 8642.72, 8642.73, 8642.72, 3.15617465), (2, 1579535700, 8664.92, 8659.99, 8660.0, 8662.2, 6.51654265)]\n",
      "[(1, 1579521600, 313.64, 291.92, 296.35, 311.03, 1902.67699511)]\n",
      "Error :  no such table: LOLOLO\n"
     ]
    }
   ],
   "source": [
    "import time\n",
    "import sqlite3\n",
    "\n",
    "def selectDataDB(tableName):\n",
    "    try:\n",
    "        sqliteConnection = sqlite3.connect('Trading.db')\n",
    "        cursor = sqliteConnection.cursor()\n",
    "\n",
    "        sqlite_select_Query = \"SELECT * FROM \"+ tableName\n",
    "        cursor.execute(sqlite_select_Query)\n",
    "        record = cursor.fetchall()\n",
    "        print(record)\n",
    "        cursor.close()\n",
    "\n",
    "    except sqlite3.Error as error:\n",
    "        print(\"Error : \", error)\n",
    "    finally:\n",
    "        if (sqliteConnection):\n",
    "            sqliteConnection.close()\n",
    "    \n",
    "selectDataDB(\"BTC_USD_5m\")\n",
    "\n",
    "selectDataDB(\"BCH_EUR_6h\")\n",
    "\n",
    "selectDataDB(\"LOLOLO\")"
   ]
  }
 ],
 "metadata": {
  "kernelspec": {
   "display_name": "Python 3",
   "language": "python",
   "name": "python3"
  },
  "language_info": {
   "codemirror_mode": {
    "name": "ipython",
    "version": 3
   },
   "file_extension": ".py",
   "mimetype": "text/x-python",
   "name": "python",
   "nbconvert_exporter": "python",
   "pygments_lexer": "ipython3",
   "version": "3.7.3"
  }
 },
 "nbformat": 4,
 "nbformat_minor": 2
}
